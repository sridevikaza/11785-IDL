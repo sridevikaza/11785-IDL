{
 "cells": [
  {
   "cell_type": "code",
   "execution_count": 20,
   "metadata": {},
   "outputs": [],
   "source": [
    "import numpy as np\n",
    "\n",
    "class Sigmoid:\n",
    "    \"\"\"\n",
    "    On same lines as above:\n",
    "    Define 'forward' function\n",
    "    Define 'backward' function\n",
    "    Read the writeup for further details on Sigmoid.\n",
    "    \"\"\"\n",
    "    def forward(self, Z):\n",
    "\n",
    "        self.A = 1 / (1+np.exp(-Z))\n",
    "\n",
    "        return self.A\n",
    "\n",
    "    def backward(self, dLdA):\n",
    "\n",
    "        dAdZ = (self.A - self.A * self.A)\n",
    "        dLdZ = dLdA * dAdZ\n",
    "\n",
    "        return dLdZ\n",
    "    \n",
    "class Tanh:\n",
    "    \"\"\"\n",
    "    On same lines as above:\n",
    "    Define 'forward' function\n",
    "    Define 'backward' function\n",
    "    Read the writeup for further details on Tanh.\n",
    "    \"\"\"\n",
    "    def forward(self, Z):\n",
    "\n",
    "        # self.A = (np.exp(Z) - np.exp(-Z)) / (np.exp(Z) + np.exp(-Z))\n",
    "\n",
    "        self.A = np.tanh(Z)\n",
    "\n",
    "        return self.A\n",
    "\n",
    "    def backward(self, dLdA):\n",
    "\n",
    "        dAdZ = 1 - self.A**2\n",
    "        dLdZ = dLdA * dAdZ\n",
    "\n",
    "        return dLdZ\n"
   ]
  },
  {
   "cell_type": "code",
   "execution_count": 130,
   "metadata": {},
   "outputs": [],
   "source": [
    "# w_list = [[0.05, 0.05, 0, 0.15, 0.25, 0, 1, 0, 0],\n",
    "#      [0.2, -0.01, 0.07, 0.2, -0.1, 0.7, 0, 1, 0],\n",
    "#      [-0.2, 0.05, 0.05, -0.2, 0.65, 0.15, 0, 0, 1]]\n",
    "# w = np.array(w_list)\n",
    "\n",
    "# wc_list = [[0.7, 0.8, 0.9, 1, 0, 0],\n",
    "#            [0.9, 0.8, 0.9, 0, 1, 0],\n",
    "#            [-0.9, 0.8, 0.9, 0, 0, 1]]\n",
    "# wc = np.array(wc_list)\n",
    "\n",
    "w_list = [[-0.8, 0.0, -0.3, -0.75, 0.26, 0.09],\n",
    "     [0.05, -0.1, -0.9, 0.0, 0.85, 0.07]]\n",
    "w = np.array(w_list)\n",
    "\n",
    "wc_list = [[0.8, 0.9, 0.3, 1],\n",
    "           [0.3, 0.45, 0.7, 0.5]]\n",
    "wc = np.array(wc_list)\n"
   ]
  },
  {
   "cell_type": "code",
   "execution_count": 133,
   "metadata": {},
   "outputs": [
    {
     "name": "stdout",
     "output_type": "stream",
     "text": [
      "[0.65137672 0.36839381]\n",
      "[0.00651377 0.00368394]\n"
     ]
    },
    {
     "ename": "KeyboardInterrupt",
     "evalue": "",
     "output_type": "error",
     "traceback": [
      "\u001b[0;31m---------------------------------------------------------------------------\u001b[0m",
      "\u001b[0;31mKeyboardInterrupt\u001b[0m                         Traceback (most recent call last)",
      "Cell \u001b[0;32mIn[133], line 31\u001b[0m\n\u001b[1;32m     29\u001b[0m c_tilde \u001b[38;5;241m=\u001b[39m np\u001b[38;5;241m.\u001b[39mtanh(wc[:,:\u001b[38;5;241m2\u001b[39m]\u001b[38;5;129m@hprev\u001b[39m \u001b[38;5;241m+\u001b[39m wc[:,\u001b[38;5;241m2\u001b[39m:]\u001b[38;5;129m@x\u001b[39m \u001b[38;5;241m+\u001b[39m \u001b[38;5;241m1\u001b[39m)\n\u001b[1;32m     30\u001b[0m c \u001b[38;5;241m=\u001b[39m ft\u001b[38;5;241m*\u001b[39mcprev \u001b[38;5;241m+\u001b[39m it\u001b[38;5;241m*\u001b[39mc_tilde\n\u001b[0;32m---> 31\u001b[0m ot \u001b[38;5;241m=\u001b[39m \u001b[43msigmoid\u001b[49m\u001b[43m(\u001b[49m\u001b[43mw\u001b[49m\u001b[43m[\u001b[49m\u001b[43m:\u001b[49m\u001b[43m,\u001b[49m\u001b[43m:\u001b[49m\u001b[38;5;241;43m2\u001b[39;49m\u001b[43m]\u001b[49m\u001b[38;5;129;43m@c\u001b[39;49m\u001b[43m \u001b[49m\u001b[38;5;241;43m+\u001b[39;49m\u001b[43m \u001b[49m\u001b[43mw\u001b[49m\u001b[43m[\u001b[49m\u001b[43m:\u001b[49m\u001b[43m,\u001b[49m\u001b[38;5;241;43m2\u001b[39;49m\u001b[43m:\u001b[49m\u001b[38;5;241;43m4\u001b[39;49m\u001b[43m]\u001b[49m\u001b[38;5;129;43m@hprev\u001b[39;49m\u001b[43m \u001b[49m\u001b[38;5;241;43m+\u001b[39;49m\u001b[43m \u001b[49m\u001b[43mw\u001b[49m\u001b[43m[\u001b[49m\u001b[43m:\u001b[49m\u001b[43m,\u001b[49m\u001b[38;5;241;43m4\u001b[39;49m\u001b[43m:\u001b[49m\u001b[43m]\u001b[49m\u001b[38;5;129;43m@x\u001b[39;49m\u001b[43m \u001b[49m\u001b[38;5;241;43m+\u001b[39;49m\u001b[43m \u001b[49m\u001b[38;5;241;43m1\u001b[39;49m\u001b[43m)\u001b[49m\n\u001b[1;32m     32\u001b[0m h \u001b[38;5;241m=\u001b[39m ot\u001b[38;5;241m*\u001b[39mnp\u001b[38;5;241m.\u001b[39mtanh(c)\n\u001b[1;32m     34\u001b[0m hprev \u001b[38;5;241m=\u001b[39m h\n",
      "Cell \u001b[0;32mIn[133], line 1\u001b[0m, in \u001b[0;36msigmoid\u001b[0;34m(x)\u001b[0m\n\u001b[0;32m----> 1\u001b[0m \u001b[38;5;28;01mdef\u001b[39;00m \u001b[38;5;21msigmoid\u001b[39m(x):\n\u001b[1;32m      2\u001b[0m     \u001b[38;5;28;01mreturn\u001b[39;00m \u001b[38;5;241m1\u001b[39m \u001b[38;5;241m/\u001b[39m (\u001b[38;5;241m1\u001b[39m \u001b[38;5;241m+\u001b[39m np\u001b[38;5;241m.\u001b[39mexp(\u001b[38;5;241m-\u001b[39mx))\n\u001b[1;32m      4\u001b[0m hprev \u001b[38;5;241m=\u001b[39m np\u001b[38;5;241m.\u001b[39mzeros(\u001b[38;5;241m2\u001b[39m)\u001b[38;5;241m.\u001b[39mT\n",
      "\u001b[0;31mKeyboardInterrupt\u001b[0m: "
     ]
    }
   ],
   "source": [
    "def sigmoid(x):\n",
    "    return 1 / (1 + np.exp(-x))\n",
    "\n",
    "hprev = np.zeros(2).T\n",
    "cprev = np.zeros(2).T\n",
    "x = np.array([-1,1]).T\n",
    "\n",
    "ft = sigmoid(w[:,:2]@cprev + w[:,2:4]@hprev + w[:,4:]@x + 1)\n",
    "it = sigmoid(w[:,:2]@cprev + w[:,2:4]@hprev + w[:,4:]@x + 1)\n",
    "c_tilde = np.tanh(wc[:,:2]@hprev + wc[:,2:]@x + 1)\n",
    "c = ft*cprev + it*c_tilde\n",
    "ot = sigmoid(w[:,:2]@c + w[:,2:4]@hprev + w[:,4:]@x + 1)\n",
    "h = ot*np.tanh(c)\n",
    "\n",
    "hprev = h\n",
    "cprev = c\n",
    "\n",
    "mem = 0\n",
    "c_thresh = c/100\n",
    "h_thresh = h/100\n",
    "print(c)\n",
    "print(c_thresh)\n",
    "\n",
    "# c_thresh = np.sum(c)/100\n",
    "# while(np.sum(c)>c_thresh and mem<332):\n",
    "while(np.all(abs(c) > c_thresh)):\n",
    "    ft = sigmoid(w[:,:2]@cprev + w[:,2:4]@hprev + w[:,4:]@x + 1)\n",
    "    it = sigmoid(w[:,:2]@cprev + w[:,2:4]@hprev + w[:,4:]@x + 1)\n",
    "    c_tilde = np.tanh(wc[:,:2]@hprev + wc[:,2:]@x + 1)\n",
    "    c = ft*cprev + it*c_tilde\n",
    "    ot = sigmoid(w[:,:2]@c + w[:,2:4]@hprev + w[:,4:]@x + 1)\n",
    "    h = ot*np.tanh(c)\n",
    "\n",
    "    hprev = h\n",
    "    cprev = c\n",
    "    mem += 1\n",
    "\n",
    "print(h)\n",
    "print(mem+1)\n",
    "\n",
    "# 1.15\n",
    "# 0.95\n",
    "# 1.15\n",
    "# 1.05"
   ]
  },
  {
   "cell_type": "code",
   "execution_count": 44,
   "metadata": {},
   "outputs": [
    {
     "name": "stdout",
     "output_type": "stream",
     "text": [
      "Requirement already satisfied: numpy in /usr/local/lib/python3.11/site-packages (1.26.4)\n",
      "\n",
      "\u001b[1m[\u001b[0m\u001b[34;49mnotice\u001b[0m\u001b[1;39;49m]\u001b[0m\u001b[39;49m A new release of pip available: \u001b[0m\u001b[31;49m22.3.1\u001b[0m\u001b[39;49m -> \u001b[0m\u001b[32;49m24.0\u001b[0m\n",
      "\u001b[1m[\u001b[0m\u001b[34;49mnotice\u001b[0m\u001b[1;39;49m]\u001b[0m\u001b[39;49m To update, run: \u001b[0m\u001b[32;49mpython3.11 -m pip install --upgrade pip\u001b[0m\n",
      "Note: you may need to restart the kernel to use updated packages.\n"
     ]
    }
   ],
   "source": [
    "%pip install numpy"
   ]
  },
  {
   "cell_type": "code",
   "execution_count": null,
   "metadata": {},
   "outputs": [],
   "source": []
  }
 ],
 "metadata": {
  "kernelspec": {
   "display_name": "Python 3",
   "language": "python",
   "name": "python3"
  },
  "language_info": {
   "codemirror_mode": {
    "name": "ipython",
    "version": 3
   },
   "file_extension": ".py",
   "mimetype": "text/x-python",
   "name": "python",
   "nbconvert_exporter": "python",
   "pygments_lexer": "ipython3",
   "version": "3.11.1"
  }
 },
 "nbformat": 4,
 "nbformat_minor": 2
}
